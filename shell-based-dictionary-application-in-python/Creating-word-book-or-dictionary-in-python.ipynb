{
 "cells": [
  {
   "cell_type": "code",
   "execution_count": 1,
   "metadata": {},
   "outputs": [],
   "source": [
    "# Disctionary (Ovidhan) project starts"
   ]
  },
  {
   "cell_type": "code",
   "execution_count": 2,
   "metadata": {},
   "outputs": [
    {
     "name": "stdout",
     "output_type": "stream",
     "text": [
      "Input Word: Tree\n",
      "Input Meaning: গাছ\n",
      "Input Word: Python\n",
      "Input Meaning: একটি সাপের নাম\n",
      "Input Word: __quit__\n",
      "Data entry completed\n",
      "Data was written to file....\n"
     ]
    }
   ],
   "source": [
    "# Dictionary (Ovidhan): Data input\n",
    "\n",
    "\"\"\" Data format:\n",
    "1) words and meanings are separated by a newline\n",
    "2) word-meaning pairs are separated by two newlines\n",
    "Ex:\n",
    "tree\n",
    "গাছ\n",
    "\n",
    "tree 1\n",
    "গাছ 1\n",
    "\n",
    "tree 2\n",
    "গাছ 2\n",
    "\"\"\"\n",
    "\n",
    "dict_file = open(\"ovidhan.txt\", \"w\", encoding=\"utf-8\")\n",
    "\n",
    "ovidhan = {}\n",
    "\n",
    "while True:\n",
    "    in_word = input(\"Input Word: \")\n",
    "    if in_word == \"__quit__\":\n",
    "        break\n",
    "    in_meaning = input(\"Input Meaning: \")\n",
    "    ovidhan[in_word] = in_meaning\n",
    "    \n",
    "print(\"Data entry completed\")\n",
    "\n",
    "for key, value in ovidhan.items():\n",
    "    word_meaning_pair = key + \"\\n\" + value\n",
    "    dict_file.write(word_meaning_pair + \"\\n\\n\")\n",
    "\n",
    "print(\"Data was written to file....\")\n",
    "\n",
    "dict_file.close()\n"
   ]
  },
  {
   "cell_type": "code",
   "execution_count": 1,
   "metadata": {},
   "outputs": [
    {
     "name": "stdout",
     "output_type": "stream",
     "text": [
      "Enter word for meaning (enter _q to exit)tree\n",
      "Meaning for word tree:\n",
      "গাছ\n",
      "Enter word for meaning (enter _q to exit)_q\n"
     ]
    }
   ],
   "source": [
    "# Dictionary (Ovidhan): Data View\n",
    "\n",
    "\"\"\" Data format:\n",
    "1) words and meanings are separated by a newline\n",
    "2) word-meaning pairs are separated by two newlines\n",
    "Ex:\n",
    "tree\n",
    "গাছ\n",
    "\n",
    "tree 1\n",
    "গাছ 1\n",
    "\n",
    "tree 2\n",
    "গাছ 2\n",
    "\"\"\"\n",
    "\n",
    "dict_file = open(\"ovidhan.txt\", \"r\", encoding=\"utf-8\")\n",
    "\n",
    "ovidhan = {}\n",
    "\n",
    "data_str = dict_file.read()\n",
    "\n",
    "word_meaning_pair_list = [x for x in data_str.split(\"\\n\\n\") if x]\n",
    "\n",
    "for pair_str in word_meaning_pair_list:\n",
    "    word, meaning = pair_str.split(\"\\n\")\n",
    "    ovidhan[word.lower()] = meaning\n",
    "    \n",
    "# print(ovidhan)\n",
    "\n",
    "while True:\n",
    "    inp = input(\"Enter word for meaning (enter _q to exit)\")\n",
    "    if inp == \"_q\":\n",
    "        break\n",
    "    orig_inp = inp.strip()\n",
    "    inp = orig_inp.lower()\n",
    "    if inp not in ovidhan:\n",
    "        print(\"Meaning for word %s not found\" % orig_inp)\n",
    "    else:\n",
    "        meaning = ovidhan[inp]\n",
    "        print(\"Meaning for word \" + orig_inp + \":\\n\" + meaning)\n",
    "\n",
    "\n",
    "dict_file.close()\n"
   ]
  }
 ],
 "metadata": {
  "kernelspec": {
   "display_name": "Python 3",
   "language": "python",
   "name": "python3"
  },
  "language_info": {
   "codemirror_mode": {
    "name": "ipython",
    "version": 3
   },
   "file_extension": ".py",
   "mimetype": "text/x-python",
   "name": "python",
   "nbconvert_exporter": "python",
   "pygments_lexer": "ipython3",
   "version": "3.6.4"
  }
 },
 "nbformat": 4,
 "nbformat_minor": 2
}
