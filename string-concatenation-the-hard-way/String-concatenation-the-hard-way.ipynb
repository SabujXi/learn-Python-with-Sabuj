{
 "cells": [
  {
   "cell_type": "code",
   "execution_count": 1,
   "metadata": {},
   "outputs": [
    {
     "name": "stdout",
     "output_type": "stream",
     "text": [
      "Mashihoor vi is married person with two childred.\n"
     ]
    }
   ],
   "source": [
    "# String concatenation the hard way : way 1\n",
    "\n",
    "l1 = [] # list 1\n",
    "l2 = [] # list 2\n",
    "\n",
    "l_l = [] # last list\n",
    "\n",
    "s1 = \"Mashihoor vi is married person \"\n",
    "s2 = \"with two childred.\"\n",
    "\n",
    "i = 0\n",
    "while i < len(s1) :\n",
    "    c = s1[i]\n",
    "    l1.append(c)\n",
    "    i += 1\n",
    "\n",
    "j = 0\n",
    "while j < len(s2) :\n",
    "    c = s2[j]\n",
    "    l2.append(c)\n",
    "    j += 1\n",
    "\n",
    "for x in l1:\n",
    "    l_l.append(x)\n",
    "\n",
    "for y in l2:\n",
    "    l_l.append(y)\n",
    "    \n",
    "#print(l_l)\n",
    "\n",
    "#final_string = \"\".join(l_l)\n",
    "final_string  = \"\"\n",
    "for z in l_l:\n",
    "    final_string += z\n",
    "\n",
    "print(final_string)"
   ]
  },
  {
   "cell_type": "code",
   "execution_count": 2,
   "metadata": {},
   "outputs": [
    {
     "name": "stdout",
     "output_type": "stream",
     "text": [
      "Mashihoor vi is married person with two childred.\n"
     ]
    }
   ],
   "source": [
    "# String concatenation the hard way : way 2\n",
    "\n",
    "l_l = [] # last list\n",
    "\n",
    "s1 = \"Mashihoor vi is married person \"\n",
    "s2 = \"with two childred.\"\n",
    "\n",
    "i = 0\n",
    "while i < len(s1) :\n",
    "    c = s1[i]\n",
    "    l_l.append(c)\n",
    "    i += 1\n",
    "\n",
    "j = 0\n",
    "while j < len(s2) :\n",
    "    c = s2[j]\n",
    "    l_l.append(c)\n",
    "    j += 1\n",
    "    \n",
    "final_string  = \"\"\n",
    "for z in l_l:\n",
    "    final_string += z\n",
    "\n",
    "print(final_string)"
   ]
  },
  {
   "cell_type": "code",
   "execution_count": 3,
   "metadata": {},
   "outputs": [
    {
     "name": "stdout",
     "output_type": "stream",
     "text": [
      "Mashihoor vi is married person with two childred.\n"
     ]
    }
   ],
   "source": [
    "# String concatenation the hard way : way 3\n",
    "\n",
    "l_l = [] # last list\n",
    "\n",
    "s1 = \"Mashihoor vi is married person \"\n",
    "s2 = \"with two childred.\"\n",
    "\n",
    "# s1 + s2\n",
    "\n",
    "for a in s1:\n",
    "    l_l.append(a)\n",
    "\n",
    "for b in s2:\n",
    "    l_l.append(b)\n",
    "\n",
    "final_string  = \"\"\n",
    "for z in l_l:\n",
    "    final_string += z\n",
    "\n",
    "print(final_string)"
   ]
  }
 ],
 "metadata": {
  "kernelspec": {
   "display_name": "Python 3",
   "language": "python",
   "name": "python3"
  },
  "language_info": {
   "codemirror_mode": {
    "name": "ipython",
    "version": 3
   },
   "file_extension": ".py",
   "mimetype": "text/x-python",
   "name": "python",
   "nbconvert_exporter": "python",
   "pygments_lexer": "ipython3",
   "version": "3.6.4"
  }
 },
 "nbformat": 4,
 "nbformat_minor": 2
}
